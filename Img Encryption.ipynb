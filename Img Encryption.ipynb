{
 "cells": [
  {
   "cell_type": "code",
   "execution_count": 47,
   "id": "ce780667-a13f-4207-9333-d5c8414b1496",
   "metadata": {},
   "outputs": [
    {
     "name": "stdin",
     "output_type": "stream",
     "text": [
      "Enter the Value of Encryption: 50\n"
     ]
    },
    {
     "name": "stdout",
     "output_type": "stream",
     "text": [
      "Image saved as encrypted_image.png\n"
     ]
    }
   ],
   "source": [
    "image_path = 'w2.png'\n",
    "#pixels = count_pixels(image_path)\n",
    "\n",
    "def encrypt(image):\n",
    "    width, height = image.size\n",
    "    pixel_data = image.load()\n",
    "    total_pixels = width * height\n",
    "    \n",
    "    for _ in range(total_pixels):  # Number of swaps\n",
    "        x1, y1 = random.randint(0, width - 1), random.randint(0, height - 1)\n",
    "        x2, y2 = random.randint(0, width - 1), random.randint(0, height - 1)\n",
    "        pixel_data[x1, y1], pixel_data[x2, y2] = pixel_data[x2, y2], pixel_data[x1, y1]\n",
    "    \n",
    "    for x in range(width):\n",
    "        for y in range(height):\n",
    "            r, g, b = pixel_data[x, y]\n",
    "            r = (r + value) % 256\n",
    "            g = (g + value) % 256\n",
    "            b = (b + value) % 256\n",
    "            pixel_data[x, y] = (r, g, b)\n",
    "    \n",
    "    return image\n",
    "\n",
    "def encrypt_image(image_path, output_path, value):\n",
    "    image = Image.open(image_path)\n",
    "    encrypted_image = encrypt(image)\n",
    "    encrypted_image.save(output_path)\n",
    "    print(f\"Image saved as {output_path}\")\n",
    "\n",
    "output_path = 'encrypted_image.png'\n",
    "value= int(input(\"Enter the Value of Encryption:\"))\n",
    "encrypt_image(image_path, output_path, value)"
   ]
  },
  {
   "cell_type": "code",
   "execution_count": null,
   "id": "c0555854-96f1-4bf0-87ca-f099494cf34a",
   "metadata": {},
   "outputs": [],
   "source": []
  }
 ],
 "metadata": {
  "kernelspec": {
   "display_name": "Python 3 (ipykernel)",
   "language": "python",
   "name": "python3"
  },
  "language_info": {
   "codemirror_mode": {
    "name": "ipython",
    "version": 3
   },
   "file_extension": ".py",
   "mimetype": "text/x-python",
   "name": "python",
   "nbconvert_exporter": "python",
   "pygments_lexer": "ipython3",
   "version": "3.12.4"
  }
 },
 "nbformat": 4,
 "nbformat_minor": 5
}
